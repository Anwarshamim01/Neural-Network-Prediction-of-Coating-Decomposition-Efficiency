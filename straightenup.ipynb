{
 "cells": [
  {
   "cell_type": "code",
   "execution_count": null,
   "id": "1d82994f",
   "metadata": {
    "papermill": {
     "duration": 0.00672,
     "end_time": "2024-11-13T22:04:59.215003",
     "exception": false,
     "start_time": "2024-11-13T22:04:59.208283",
     "status": "completed"
    },
    "tags": []
   },
   "outputs": [],
   "source": []
  },
  {
   "cell_type": "code",
   "execution_count": 1,
   "id": "8855caba",
   "metadata": {
    "execution": {
     "iopub.execute_input": "2024-11-13T22:04:59.227772Z",
     "iopub.status.busy": "2024-11-13T22:04:59.227067Z",
     "iopub.status.idle": "2024-11-13T22:05:14.643700Z",
     "shell.execute_reply": "2024-11-13T22:05:14.642702Z"
    },
    "papermill": {
     "duration": 15.424797,
     "end_time": "2024-11-13T22:05:14.646076",
     "exception": false,
     "start_time": "2024-11-13T22:04:59.221279",
     "status": "completed"
    },
    "tags": []
   },
   "outputs": [
    {
     "name": "stdout",
     "output_type": "stream",
     "text": [
      "Collecting onnxruntime\r\n",
      "  Downloading onnxruntime-1.20.0-cp310-cp310-manylinux_2_27_x86_64.manylinux_2_28_x86_64.whl.metadata (4.4 kB)\r\n",
      "Collecting coloredlogs (from onnxruntime)\r\n",
      "  Downloading coloredlogs-15.0.1-py2.py3-none-any.whl.metadata (12 kB)\r\n",
      "Requirement already satisfied: flatbuffers in /opt/conda/lib/python3.10/site-packages (from onnxruntime) (24.3.25)\r\n",
      "Requirement already satisfied: numpy>=1.21.6 in /opt/conda/lib/python3.10/site-packages (from onnxruntime) (1.26.4)\r\n",
      "Requirement already satisfied: packaging in /opt/conda/lib/python3.10/site-packages (from onnxruntime) (21.3)\r\n",
      "Requirement already satisfied: protobuf in /opt/conda/lib/python3.10/site-packages (from onnxruntime) (3.20.3)\r\n",
      "Requirement already satisfied: sympy in /opt/conda/lib/python3.10/site-packages (from onnxruntime) (1.13.3)\r\n",
      "Collecting humanfriendly>=9.1 (from coloredlogs->onnxruntime)\r\n",
      "  Downloading humanfriendly-10.0-py2.py3-none-any.whl.metadata (9.2 kB)\r\n",
      "Requirement already satisfied: pyparsing!=3.0.5,>=2.0.2 in /opt/conda/lib/python3.10/site-packages (from packaging->onnxruntime) (3.1.2)\r\n",
      "Requirement already satisfied: mpmath<1.4,>=1.1.0 in /opt/conda/lib/python3.10/site-packages (from sympy->onnxruntime) (1.3.0)\r\n",
      "Downloading onnxruntime-1.20.0-cp310-cp310-manylinux_2_27_x86_64.manylinux_2_28_x86_64.whl (13.3 MB)\r\n",
      "\u001b[2K   \u001b[90m━━━━━━━━━━━━━━━━━━━━━━━━━━━━━━━━━━━━━━━━\u001b[0m \u001b[32m13.3/13.3 MB\u001b[0m \u001b[31m79.2 MB/s\u001b[0m eta \u001b[36m0:00:00\u001b[0m\r\n",
      "\u001b[?25hDownloading coloredlogs-15.0.1-py2.py3-none-any.whl (46 kB)\r\n",
      "\u001b[2K   \u001b[90m━━━━━━━━━━━━━━━━━━━━━━━━━━━━━━━━━━━━━━━━\u001b[0m \u001b[32m46.0/46.0 kB\u001b[0m \u001b[31m3.0 MB/s\u001b[0m eta \u001b[36m0:00:00\u001b[0m\r\n",
      "\u001b[?25hDownloading humanfriendly-10.0-py2.py3-none-any.whl (86 kB)\r\n",
      "\u001b[2K   \u001b[90m━━━━━━━━━━━━━━━━━━━━━━━━━━━━━━━━━━━━━━━━\u001b[0m \u001b[32m86.8/86.8 kB\u001b[0m \u001b[31m4.8 MB/s\u001b[0m eta \u001b[36m0:00:00\u001b[0m\r\n",
      "\u001b[?25hInstalling collected packages: humanfriendly, coloredlogs, onnxruntime\r\n",
      "Successfully installed coloredlogs-15.0.1 humanfriendly-10.0 onnxruntime-1.20.0\r\n"
     ]
    }
   ],
   "source": [
    "!pip install onnxruntime"
   ]
  },
  {
   "cell_type": "code",
   "execution_count": 2,
   "id": "19f0a9d1",
   "metadata": {
    "execution": {
     "iopub.execute_input": "2024-11-13T22:05:14.659176Z",
     "iopub.status.busy": "2024-11-13T22:05:14.658853Z",
     "iopub.status.idle": "2024-11-13T22:05:22.176059Z",
     "shell.execute_reply": "2024-11-13T22:05:22.174651Z"
    },
    "papermill": {
     "duration": 7.526916,
     "end_time": "2024-11-13T22:05:22.178916",
     "exception": false,
     "start_time": "2024-11-13T22:05:14.652000",
     "status": "completed"
    },
    "tags": []
   },
   "outputs": [
    {
     "data": {
      "text/html": [
       "<div>\n",
       "<style scoped>\n",
       "    .dataframe tbody tr th:only-of-type {\n",
       "        vertical-align: middle;\n",
       "    }\n",
       "\n",
       "    .dataframe tbody tr th {\n",
       "        vertical-align: top;\n",
       "    }\n",
       "\n",
       "    .dataframe thead th {\n",
       "        text-align: right;\n",
       "    }\n",
       "</style>\n",
       "<table border=\"1\" class=\"dataframe\">\n",
       "  <thead>\n",
       "    <tr style=\"text-align: right;\">\n",
       "      <th></th>\n",
       "      <th>Flutter Timecode</th>\n",
       "      <th>Device Timecode</th>\n",
       "      <th>ax</th>\n",
       "      <th>ay</th>\n",
       "      <th>az</th>\n",
       "      <th>gx</th>\n",
       "      <th>gy</th>\n",
       "      <th>gz</th>\n",
       "      <th>Orientation</th>\n",
       "      <th>Posture</th>\n",
       "      <th>Posture_Type</th>\n",
       "    </tr>\n",
       "  </thead>\n",
       "  <tbody>\n",
       "    <tr>\n",
       "      <th>0</th>\n",
       "      <td>1730965200588</td>\n",
       "      <td>282436</td>\n",
       "      <td>-0.04</td>\n",
       "      <td>0.82</td>\n",
       "      <td>0.63</td>\n",
       "      <td>22.12</td>\n",
       "      <td>0.21</td>\n",
       "      <td>-1.33</td>\n",
       "      <td>Seating</td>\n",
       "      <td>Tilted</td>\n",
       "      <td>Seating_tilted</td>\n",
       "    </tr>\n",
       "    <tr>\n",
       "      <th>1</th>\n",
       "      <td>1730965200588</td>\n",
       "      <td>282436</td>\n",
       "      <td>-0.04</td>\n",
       "      <td>0.82</td>\n",
       "      <td>0.63</td>\n",
       "      <td>22.12</td>\n",
       "      <td>0.21</td>\n",
       "      <td>-1.33</td>\n",
       "      <td>Seating</td>\n",
       "      <td>Tilted</td>\n",
       "      <td>Seating_tilted</td>\n",
       "    </tr>\n",
       "    <tr>\n",
       "      <th>2</th>\n",
       "      <td>1730965200588</td>\n",
       "      <td>282436</td>\n",
       "      <td>-0.04</td>\n",
       "      <td>0.82</td>\n",
       "      <td>0.63</td>\n",
       "      <td>22.12</td>\n",
       "      <td>0.21</td>\n",
       "      <td>-1.33</td>\n",
       "      <td>Seating</td>\n",
       "      <td>Tilted</td>\n",
       "      <td>Seating_tilted</td>\n",
       "    </tr>\n",
       "    <tr>\n",
       "      <th>3</th>\n",
       "      <td>1730965200588</td>\n",
       "      <td>282436</td>\n",
       "      <td>-0.04</td>\n",
       "      <td>0.82</td>\n",
       "      <td>0.63</td>\n",
       "      <td>22.12</td>\n",
       "      <td>0.21</td>\n",
       "      <td>-1.33</td>\n",
       "      <td>Seating</td>\n",
       "      <td>Tilted</td>\n",
       "      <td>Seating_tilted</td>\n",
       "    </tr>\n",
       "    <tr>\n",
       "      <th>4</th>\n",
       "      <td>1730965200784</td>\n",
       "      <td>282656</td>\n",
       "      <td>-0.09</td>\n",
       "      <td>0.92</td>\n",
       "      <td>0.53</td>\n",
       "      <td>27.16</td>\n",
       "      <td>7.35</td>\n",
       "      <td>-6.37</td>\n",
       "      <td>Seating</td>\n",
       "      <td>Tilted</td>\n",
       "      <td>Seating_tilted</td>\n",
       "    </tr>\n",
       "  </tbody>\n",
       "</table>\n",
       "</div>"
      ],
      "text/plain": [
       "   Flutter Timecode  Device Timecode    ax    ay    az     gx    gy    gz  \\\n",
       "0     1730965200588           282436 -0.04  0.82  0.63  22.12  0.21 -1.33   \n",
       "1     1730965200588           282436 -0.04  0.82  0.63  22.12  0.21 -1.33   \n",
       "2     1730965200588           282436 -0.04  0.82  0.63  22.12  0.21 -1.33   \n",
       "3     1730965200588           282436 -0.04  0.82  0.63  22.12  0.21 -1.33   \n",
       "4     1730965200784           282656 -0.09  0.92  0.53  27.16  7.35 -6.37   \n",
       "\n",
       "  Orientation Posture    Posture_Type  \n",
       "0     Seating  Tilted  Seating_tilted  \n",
       "1     Seating  Tilted  Seating_tilted  \n",
       "2     Seating  Tilted  Seating_tilted  \n",
       "3     Seating  Tilted  Seating_tilted  \n",
       "4     Seating  Tilted  Seating_tilted  "
      ]
     },
     "execution_count": 2,
     "metadata": {},
     "output_type": "execute_result"
    }
   ],
   "source": [
    "import pandas as pd\n",
    "import glob\n",
    "import pandas as pd\n",
    "import numpy as np\n",
    "import torch\n",
    "import torch.nn as nn\n",
    "import torch.optim as optim\n",
    "from sklearn.model_selection import train_test_split\n",
    "from sklearn.preprocessing import LabelEncoder, StandardScaler\n",
    "from torch.utils.data import DataLoader, TensorDataset\n",
    "import torch.onnx\n",
    "import onnx\n",
    "import onnxruntime as ort\n",
    "import joblib\n",
    "\n",
    "file_paths = {\n",
    "    \"../input/dataset007/Seating_tilted.csv\": \"Seating_tilted\",\n",
    "    \"../input/dataset007/Walking_tilted.csv\": \"Walking_tilted\",\n",
    "    \"../input/dataset007/Seating_hunched.csv\": \"Seating_hunched\",\n",
    "    \"../input/dataset007/Standing_hunched.csv\": \"Standing_hunched\",\n",
    "    \"../input/dataset007/Walking_straight.csv\": \"Walking_straight\",\n",
    "    \"../input/dataset007/Standing_tilted.csv\": \"Standing_tilted\",\n",
    "    \"../input/dataset007/Walking_hunched.csv\": \"Walking_hunched\",\n",
    "    \"../input/dataset007/Seating_straight.csv\": \"Seating_straight\",\n",
    "    \"../input/dataset007/Standing_straight.csv\": \"Standing_straight\"\n",
    "}\n",
    "\n",
    "dataframes = []\n",
    "for file_path, label in file_paths.items():\n",
    "    df = pd.read_csv(file_path)\n",
    "    df['Posture_Type'] = label\n",
    "    dataframes.append(df)\n",
    "\n",
    "combined_df = pd.concat(dataframes, ignore_index=True)\n",
    "\n",
    "combined_df.head()\n"
   ]
  },
  {
   "cell_type": "code",
   "execution_count": 3,
   "id": "d5c662a2",
   "metadata": {
    "execution": {
     "iopub.execute_input": "2024-11-13T22:05:22.197559Z",
     "iopub.status.busy": "2024-11-13T22:05:22.197183Z",
     "iopub.status.idle": "2024-11-13T22:05:22.203791Z",
     "shell.execute_reply": "2024-11-13T22:05:22.202800Z"
    },
    "papermill": {
     "duration": 0.017693,
     "end_time": "2024-11-13T22:05:22.205862",
     "exception": false,
     "start_time": "2024-11-13T22:05:22.188169",
     "status": "completed"
    },
    "tags": []
   },
   "outputs": [
    {
     "data": {
      "text/plain": [
       "370962"
      ]
     },
     "execution_count": 3,
     "metadata": {},
     "output_type": "execute_result"
    }
   ],
   "source": [
    "len(combined_df)"
   ]
  },
  {
   "cell_type": "code",
   "execution_count": 4,
   "id": "1a1c63c2",
   "metadata": {
    "execution": {
     "iopub.execute_input": "2024-11-13T22:05:22.220860Z",
     "iopub.status.busy": "2024-11-13T22:05:22.220556Z",
     "iopub.status.idle": "2024-11-13T22:05:22.318535Z",
     "shell.execute_reply": "2024-11-13T22:05:22.317541Z"
    },
    "papermill": {
     "duration": 0.108326,
     "end_time": "2024-11-13T22:05:22.320533",
     "exception": false,
     "start_time": "2024-11-13T22:05:22.212207",
     "status": "completed"
    },
    "tags": []
   },
   "outputs": [
    {
     "name": "stdout",
     "output_type": "stream",
     "text": [
      "['Tilted' 'Hunched' 'Straight']\n",
      "['Seating' 'Walking' 'Standing']\n",
      "['Seating_tilted' 'Walking_tilted' 'Seating_hunched' 'Standing_hunched'\n",
      " 'Walking_straight' 'Standing_tilted' 'Walking_hunched' 'Seating_straight'\n",
      " 'Standing_straight']\n"
     ]
    }
   ],
   "source": [
    "print(combined_df['Posture'].unique())\n",
    "print(combined_df['Orientation'].unique())\n",
    "print(combined_df['Posture_Type'].unique())"
   ]
  },
  {
   "cell_type": "code",
   "execution_count": 5,
   "id": "5b9022d1",
   "metadata": {
    "execution": {
     "iopub.execute_input": "2024-11-13T22:05:22.333336Z",
     "iopub.status.busy": "2024-11-13T22:05:22.333027Z",
     "iopub.status.idle": "2024-11-13T22:05:22.434246Z",
     "shell.execute_reply": "2024-11-13T22:05:22.433023Z"
    },
    "papermill": {
     "duration": 0.110053,
     "end_time": "2024-11-13T22:05:22.436565",
     "exception": false,
     "start_time": "2024-11-13T22:05:22.326512",
     "status": "completed"
    },
    "tags": []
   },
   "outputs": [
    {
     "name": "stdout",
     "output_type": "stream",
     "text": [
      "Using device: cuda\n"
     ]
    }
   ],
   "source": [
    "\n",
    "seed = 42\n",
    "np.random.seed(seed)\n",
    "torch.manual_seed(seed)\n",
    "if torch.cuda.is_available():\n",
    "    torch.cuda.manual_seed_all(seed)\n",
    "\n",
    "device = torch.device(\"cuda\" if torch.cuda.is_available() else \"cpu\")\n",
    "print(f\"Using device: {device}\")"
   ]
  },
  {
   "cell_type": "code",
   "execution_count": 6,
   "id": "30ebf950",
   "metadata": {
    "execution": {
     "iopub.execute_input": "2024-11-13T22:05:22.451211Z",
     "iopub.status.busy": "2024-11-13T22:05:22.450258Z",
     "iopub.status.idle": "2024-11-13T22:05:22.898897Z",
     "shell.execute_reply": "2024-11-13T22:05:22.898038Z"
    },
    "papermill": {
     "duration": 0.45994,
     "end_time": "2024-11-13T22:05:22.902887",
     "exception": false,
     "start_time": "2024-11-13T22:05:22.442947",
     "status": "completed"
    },
    "tags": []
   },
   "outputs": [],
   "source": [
    "'''\n",
    "label_encoder_orientation = LabelEncoder()\n",
    "label_encoder_posture = LabelEncoder()\n",
    "\n",
    "\n",
    "combined_df['Orientation'] = label_encoder_orientation.fit_transform(combined_df['Orientation'])\n",
    "combined_df['Posture'] = label_encoder_posture.fit_transform(combined_df['Posture'])\n",
    "'''\n",
    "label_encoder_posture_type = LabelEncoder()\n",
    "combined_df['Posture_Type'] = label_encoder_posture_type.fit_transform(combined_df['Posture_Type'])\n",
    "X = combined_df[['ax', 'ay', 'az', 'gx', 'gy', 'gz']]\n",
    "y = combined_df['Posture_Type']\n",
    "\n",
    "scaler = StandardScaler()\n",
    "X = scaler.fit_transform(X)\n",
    "joblib.dump(scaler, 'scaler.pkl')\n",
    "X_train, X_temp, y_train, y_temp = train_test_split(X, y, test_size=0.3, random_state=seed, shuffle=True)\n",
    "X_val, X_test, y_val, y_test = train_test_split(X_temp, y_temp, test_size=0.5, random_state=seed, shuffle=True)\n",
    "\n",
    "X_train = torch.tensor(X_train, dtype=torch.float32).to(device)\n",
    "y_train = torch.tensor(y_train.values, dtype=torch.long).to(device)\n",
    "X_val = torch.tensor(X_val, dtype=torch.float32).to(device)\n",
    "y_val = torch.tensor(y_val.values, dtype=torch.long).to(device)\n",
    "X_test = torch.tensor(X_test, dtype=torch.float32).to(device)\n",
    "y_test = torch.tensor(y_test.values, dtype=torch.long).to(device)\n",
    "\n",
    "train_dataset = TensorDataset(X_train, y_train)\n",
    "val_dataset = TensorDataset(X_val, y_val)\n",
    "test_dataset = TensorDataset(X_test, y_test)\n",
    "\n",
    "train_loader = DataLoader(train_dataset, batch_size=128, shuffle=True)\n",
    "val_loader = DataLoader(val_dataset, batch_size=128, shuffle=False)\n",
    "test_loader = DataLoader(test_dataset, batch_size=128, shuffle=False)\n",
    "\n"
   ]
  },
  {
   "cell_type": "code",
   "execution_count": 7,
   "id": "c5c048b9",
   "metadata": {
    "execution": {
     "iopub.execute_input": "2024-11-13T22:05:22.917397Z",
     "iopub.status.busy": "2024-11-13T22:05:22.916604Z",
     "iopub.status.idle": "2024-11-13T22:05:24.175321Z",
     "shell.execute_reply": "2024-11-13T22:05:24.174547Z"
    },
    "papermill": {
     "duration": 1.268588,
     "end_time": "2024-11-13T22:05:24.177787",
     "exception": false,
     "start_time": "2024-11-13T22:05:22.909199",
     "status": "completed"
    },
    "tags": []
   },
   "outputs": [],
   "source": [
    "\n",
    "class MLP(nn.Module):\n",
    "    def __init__(self, input_size, hidden_size, output_size):\n",
    "        super(MLP, self).__init__()\n",
    "        self.fc1 = nn.Linear(input_size, hidden_size)\n",
    "        self.fc2 = nn.Linear(hidden_size, hidden_size)\n",
    "        self.fc3 = nn.Linear(hidden_size, output_size)\n",
    "        self.relu = nn.ReLU()\n",
    "        self.dropout = nn.Dropout(0.5)\n",
    "\n",
    "    def forward(self, x):\n",
    "        x = self.dropout(self.relu(self.fc1(x)))\n",
    "        x = self.dropout(self.relu(self.fc2(x)))\n",
    "        x = self.fc3(x)\n",
    "        return x\n",
    "\n",
    "input_size = X_train.shape[1]\n",
    "hidden_size = 512\n",
    "output_size = len(label_encoder_posture_type.classes_)\n",
    "model = MLP(input_size, hidden_size, output_size).to(device)\n",
    "\n",
    "criterion = nn.CrossEntropyLoss()\n",
    "optimizer = optim.Adam(model.parameters(), lr=0.001)\n",
    "\n",
    "num_epochs = 20\n"
   ]
  },
  {
   "cell_type": "code",
   "execution_count": 8,
   "id": "69c41b56",
   "metadata": {
    "execution": {
     "iopub.execute_input": "2024-11-13T22:05:24.191849Z",
     "iopub.status.busy": "2024-11-13T22:05:24.191375Z",
     "iopub.status.idle": "2024-11-13T22:07:37.728565Z",
     "shell.execute_reply": "2024-11-13T22:07:37.727602Z"
    },
    "papermill": {
     "duration": 133.553507,
     "end_time": "2024-11-13T22:07:37.737766",
     "exception": false,
     "start_time": "2024-11-13T22:05:24.184259",
     "status": "completed"
    },
    "tags": []
   },
   "outputs": [
    {
     "name": "stdout",
     "output_type": "stream",
     "text": [
      "Epoch [1/20], Train Loss: 1.2116, Val Loss: 0.9591\n",
      "Epoch [2/20], Train Loss: 1.0180, Val Loss: 0.8638\n",
      "Epoch [3/20], Train Loss: 0.9563, Val Loss: 0.8115\n",
      "Epoch [4/20], Train Loss: 0.9186, Val Loss: 0.7798\n",
      "Epoch [5/20], Train Loss: 0.8917, Val Loss: 0.7558\n",
      "Epoch [6/20], Train Loss: 0.8730, Val Loss: 0.7340\n",
      "Epoch [7/20], Train Loss: 0.8554, Val Loss: 0.7134\n",
      "Epoch [8/20], Train Loss: 0.8431, Val Loss: 0.7008\n",
      "Epoch [9/20], Train Loss: 0.8334, Val Loss: 0.6899\n",
      "Epoch [10/20], Train Loss: 0.8249, Val Loss: 0.6754\n",
      "Epoch [11/20], Train Loss: 0.8181, Val Loss: 0.6695\n",
      "Epoch [12/20], Train Loss: 0.8087, Val Loss: 0.6616\n",
      "Epoch [13/20], Train Loss: 0.8018, Val Loss: 0.6571\n",
      "Epoch [14/20], Train Loss: 0.7969, Val Loss: 0.6487\n",
      "Epoch [15/20], Train Loss: 0.7904, Val Loss: 0.6441\n",
      "Epoch [16/20], Train Loss: 0.7877, Val Loss: 0.6375\n",
      "Epoch [17/20], Train Loss: 0.7811, Val Loss: 0.6339\n",
      "Epoch [18/20], Train Loss: 0.7774, Val Loss: 0.6245\n",
      "Epoch [19/20], Train Loss: 0.7744, Val Loss: 0.6253\n",
      "Epoch [20/20], Train Loss: 0.7711, Val Loss: 0.6175\n"
     ]
    }
   ],
   "source": [
    "for epoch in range(num_epochs):\n",
    "    model.train()\n",
    "    total_loss = 0\n",
    "    for X_batch, y_batch in train_loader:\n",
    "        optimizer.zero_grad()\n",
    "        outputs = model(X_batch)\n",
    "        loss = criterion(outputs, y_batch)\n",
    "        loss.backward()\n",
    "        optimizer.step()\n",
    "        total_loss += loss.item()\n",
    "\n",
    "    val_loss = 0\n",
    "    model.eval()\n",
    "    with torch.no_grad():\n",
    "        for X_val_batch, y_val_batch in val_loader:\n",
    "            val_outputs = model(X_val_batch)\n",
    "            val_loss += criterion(val_outputs, y_val_batch).item()\n",
    "    \n",
    "    print(f\"Epoch [{epoch+1}/{num_epochs}], Train Loss: {total_loss/len(train_loader):.4f}, Val Loss: {val_loss/len(val_loader):.4f}\")\n",
    "\n",
    "\n"
   ]
  },
  {
   "cell_type": "code",
   "execution_count": 9,
   "id": "55510de7",
   "metadata": {
    "execution": {
     "iopub.execute_input": "2024-11-13T22:07:37.754765Z",
     "iopub.status.busy": "2024-11-13T22:07:37.753995Z",
     "iopub.status.idle": "2024-11-13T22:07:37.949081Z",
     "shell.execute_reply": "2024-11-13T22:07:37.948083Z"
    },
    "papermill": {
     "duration": 0.205926,
     "end_time": "2024-11-13T22:07:37.951159",
     "exception": false,
     "start_time": "2024-11-13T22:07:37.745233",
     "status": "completed"
    },
    "tags": []
   },
   "outputs": [
    {
     "name": "stdout",
     "output_type": "stream",
     "text": [
      "Model saved in PyTorch format at mlp_model.pth\n",
      "Model saved in ONNX format at mlp_model.onnx\n"
     ]
    }
   ],
   "source": [
    "\n",
    "torch_model_path = \"mlp_model.pth\"\n",
    "onnx_model_path = \"mlp_model.onnx\"\n",
    "\n",
    "torch.save(model.state_dict(), torch_model_path)\n",
    "print(f\"Model saved in PyTorch format at {torch_model_path}\")\n",
    "\n",
    "#  ONNX format\n",
    "dummy_input = torch.randn(1, X_train.shape[1]).to(device)  #  dummy input with the same shape as a batch\n",
    "torch.onnx.export(\n",
    "    model, \n",
    "    dummy_input, \n",
    "    onnx_model_path, \n",
    "    input_names=[\"input\"], \n",
    "    output_names=[\"output\"],\n",
    "    dynamic_axes={\"input\": {0: \"batch_size\"}, \"output\": {0: \"batch_size\"}},\n",
    "    opset_version=11\n",
    ")\n",
    "print(f\"Model saved in ONNX format at {onnx_model_path}\")\n"
   ]
  },
  {
   "cell_type": "code",
   "execution_count": 10,
   "id": "82fee406",
   "metadata": {
    "execution": {
     "iopub.execute_input": "2024-11-13T22:07:37.967542Z",
     "iopub.status.busy": "2024-11-13T22:07:37.967185Z",
     "iopub.status.idle": "2024-11-13T22:07:38.729047Z",
     "shell.execute_reply": "2024-11-13T22:07:38.728090Z"
    },
    "papermill": {
     "duration": 0.772857,
     "end_time": "2024-11-13T22:07:38.731643",
     "exception": false,
     "start_time": "2024-11-13T22:07:37.958786",
     "status": "completed"
    },
    "tags": []
   },
   "outputs": [
    {
     "name": "stderr",
     "output_type": "stream",
     "text": [
      "/tmp/ipykernel_23/3087680798.py:17: FutureWarning: You are using `torch.load` with `weights_only=False` (the current default value), which uses the default pickle module implicitly. It is possible to construct malicious pickle data which will execute arbitrary code during unpickling (See https://github.com/pytorch/pytorch/blob/main/SECURITY.md#untrusted-models for more details). In a future release, the default value for `weights_only` will be flipped to `True`. This limits the functions that could be executed during unpickling. Arbitrary objects will no longer be allowed to be loaded via this mode unless they are explicitly allowlisted by the user via `torch.serialization.add_safe_globals`. We recommend you start setting `weights_only=True` for any use case where you don't have full control of the loaded file. Please open an issue on GitHub for any issues related to this experimental feature.\n",
      "  model.load_state_dict(torch.load(torch_model_path))\n"
     ]
    },
    {
     "name": "stdout",
     "output_type": "stream",
     "text": [
      "Test Accuracy (PyTorch): 78.24%\n"
     ]
    }
   ],
   "source": [
    "\n",
    "torch_model_path = \"/kaggle/working/mlp_model.pth\"\n",
    "onnx_model_path = \"/kaggle/working/mlp_model.onnx\"\n",
    "\n",
    "def evaluate_pytorch_model(model, test_loader):\n",
    "    model.eval()\n",
    "    correct = 0\n",
    "    total = 0\n",
    "    with torch.no_grad():\n",
    "        for X_test_batch, y_test_batch in test_loader:\n",
    "            X_test_batch, y_test_batch = X_test_batch.to(device), y_test_batch.to(device)\n",
    "            outputs = model(X_test_batch)\n",
    "            _, predicted = torch.max(outputs, 1)\n",
    "            total += y_test_batch.size(0)\n",
    "            correct += (predicted == y_test_batch).sum().item()\n",
    "    print(f\"Test Accuracy (PyTorch): {100 * correct / total:.2f}%\")\n",
    "\n",
    "model.load_state_dict(torch.load(torch_model_path))\n",
    "model.to(device)\n",
    "evaluate_pytorch_model(model, test_loader)\n"
   ]
  },
  {
   "cell_type": "code",
   "execution_count": 11,
   "id": "cb3021f2",
   "metadata": {
    "execution": {
     "iopub.execute_input": "2024-11-13T22:07:38.750322Z",
     "iopub.status.busy": "2024-11-13T22:07:38.749954Z",
     "iopub.status.idle": "2024-11-13T22:07:39.685780Z",
     "shell.execute_reply": "2024-11-13T22:07:39.684863Z"
    },
    "papermill": {
     "duration": 0.947198,
     "end_time": "2024-11-13T22:07:39.687877",
     "exception": false,
     "start_time": "2024-11-13T22:07:38.740679",
     "status": "completed"
    },
    "tags": []
   },
   "outputs": [
    {
     "name": "stdout",
     "output_type": "stream",
     "text": [
      "Test Accuracy (ONNX): 78.24%\n"
     ]
    }
   ],
   "source": [
    "\n",
    "def evaluate_onnx_model(onnx_model_path, test_loader):\n",
    "    ort_session = ort.InferenceSession(onnx_model_path)\n",
    "    correct = 0\n",
    "    total = 0\n",
    "    for X_test_batch, y_test_batch in test_loader:\n",
    "\n",
    "        X_test_batch = X_test_batch.cpu().numpy()\n",
    "        y_test_batch = y_test_batch.cpu().numpy()\n",
    "\n",
    "        ort_inputs = {\"input\": X_test_batch}\n",
    "        ort_outs = ort_session.run(None, ort_inputs)\n",
    "        predicted = torch.tensor(ort_outs[0]).argmax(dim=1)\n",
    "        \n",
    "        total += y_test_batch.shape[0]\n",
    "        correct += (predicted.numpy() == y_test_batch).sum()\n",
    "    \n",
    "    print(f\"Test Accuracy (ONNX): {100 * correct / total:.2f}%\")\n",
    "\n",
    "evaluate_onnx_model(onnx_model_path, test_loader)\n"
   ]
  },
  {
   "cell_type": "code",
   "execution_count": null,
   "id": "4ed8c62e",
   "metadata": {
    "papermill": {
     "duration": 0.007701,
     "end_time": "2024-11-13T22:07:39.703495",
     "exception": false,
     "start_time": "2024-11-13T22:07:39.695794",
     "status": "completed"
    },
    "tags": []
   },
   "outputs": [],
   "source": []
  }
 ],
 "metadata": {
  "kaggle": {
   "accelerator": "nvidiaTeslaT4",
   "dataSources": [
    {
     "datasetId": 6062220,
     "sourceId": 9874608,
     "sourceType": "datasetVersion"
    }
   ],
   "dockerImageVersionId": 30786,
   "isGpuEnabled": true,
   "isInternetEnabled": true,
   "language": "python",
   "sourceType": "notebook"
  },
  "kernelspec": {
   "display_name": "Python 3",
   "language": "python",
   "name": "python3"
  },
  "language_info": {
   "codemirror_mode": {
    "name": "ipython",
    "version": 3
   },
   "file_extension": ".py",
   "mimetype": "text/x-python",
   "name": "python",
   "nbconvert_exporter": "python",
   "pygments_lexer": "ipython3",
   "version": "3.10.14"
  },
  "papermill": {
   "default_parameters": {},
   "duration": 165.956,
   "end_time": "2024-11-13T22:07:41.983798",
   "environment_variables": {},
   "exception": null,
   "input_path": "__notebook__.ipynb",
   "output_path": "__notebook__.ipynb",
   "parameters": {},
   "start_time": "2024-11-13T22:04:56.027798",
   "version": "2.6.0"
  }
 },
 "nbformat": 4,
 "nbformat_minor": 5
}
