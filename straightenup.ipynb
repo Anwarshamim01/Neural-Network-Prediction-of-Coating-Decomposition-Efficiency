{
 "cells": [
  {
   "cell_type": "code",
   "execution_count": null,
   "id": "6e6614f5",
   "metadata": {
    "papermill": {
     "duration": 0.004612,
     "end_time": "2024-11-12T18:22:29.174488",
     "exception": false,
     "start_time": "2024-11-12T18:22:29.169876",
     "status": "completed"
    },
    "tags": []
   },
   "outputs": [],
   "source": []
  },
  {
   "cell_type": "code",
   "execution_count": 1,
   "id": "4f4247d9",
   "metadata": {
    "execution": {
     "iopub.execute_input": "2024-11-12T18:22:29.185074Z",
     "iopub.status.busy": "2024-11-12T18:22:29.184273Z",
     "iopub.status.idle": "2024-11-12T18:22:43.859609Z",
     "shell.execute_reply": "2024-11-12T18:22:43.858137Z"
    },
    "papermill": {
     "duration": 14.683927,
     "end_time": "2024-11-12T18:22:43.862908",
     "exception": false,
     "start_time": "2024-11-12T18:22:29.178981",
     "status": "completed"
    },
    "tags": []
   },
   "outputs": [
    {
     "name": "stdout",
     "output_type": "stream",
     "text": [
      "Collecting onnxruntime\r\n",
      "  Downloading onnxruntime-1.20.0-cp310-cp310-manylinux_2_27_x86_64.manylinux_2_28_x86_64.whl.metadata (4.4 kB)\r\n",
      "Collecting coloredlogs (from onnxruntime)\r\n",
      "  Downloading coloredlogs-15.0.1-py2.py3-none-any.whl.metadata (12 kB)\r\n",
      "Requirement already satisfied: flatbuffers in /opt/conda/lib/python3.10/site-packages (from onnxruntime) (24.3.25)\r\n",
      "Requirement already satisfied: numpy>=1.21.6 in /opt/conda/lib/python3.10/site-packages (from onnxruntime) (1.26.4)\r\n",
      "Requirement already satisfied: packaging in /opt/conda/lib/python3.10/site-packages (from onnxruntime) (21.3)\r\n",
      "Requirement already satisfied: protobuf in /opt/conda/lib/python3.10/site-packages (from onnxruntime) (3.20.3)\r\n",
      "Requirement already satisfied: sympy in /opt/conda/lib/python3.10/site-packages (from onnxruntime) (1.13.3)\r\n",
      "Collecting humanfriendly>=9.1 (from coloredlogs->onnxruntime)\r\n",
      "  Downloading humanfriendly-10.0-py2.py3-none-any.whl.metadata (9.2 kB)\r\n",
      "Requirement already satisfied: pyparsing!=3.0.5,>=2.0.2 in /opt/conda/lib/python3.10/site-packages (from packaging->onnxruntime) (3.1.2)\r\n",
      "Requirement already satisfied: mpmath<1.4,>=1.1.0 in /opt/conda/lib/python3.10/site-packages (from sympy->onnxruntime) (1.3.0)\r\n",
      "Downloading onnxruntime-1.20.0-cp310-cp310-manylinux_2_27_x86_64.manylinux_2_28_x86_64.whl (13.3 MB)\r\n",
      "\u001b[2K   \u001b[90m━━━━━━━━━━━━━━━━━━━━━━━━━━━━━━━━━━━━━━━━\u001b[0m \u001b[32m13.3/13.3 MB\u001b[0m \u001b[31m82.4 MB/s\u001b[0m eta \u001b[36m0:00:00\u001b[0m\r\n",
      "\u001b[?25hDownloading coloredlogs-15.0.1-py2.py3-none-any.whl (46 kB)\r\n",
      "\u001b[2K   \u001b[90m━━━━━━━━━━━━━━━━━━━━━━━━━━━━━━━━━━━━━━━━\u001b[0m \u001b[32m46.0/46.0 kB\u001b[0m \u001b[31m3.2 MB/s\u001b[0m eta \u001b[36m0:00:00\u001b[0m\r\n",
      "\u001b[?25hDownloading humanfriendly-10.0-py2.py3-none-any.whl (86 kB)\r\n",
      "\u001b[2K   \u001b[90m━━━━━━━━━━━━━━━━━━━━━━━━━━━━━━━━━━━━━━━━\u001b[0m \u001b[32m86.8/86.8 kB\u001b[0m \u001b[31m6.5 MB/s\u001b[0m eta \u001b[36m0:00:00\u001b[0m\r\n",
      "\u001b[?25hInstalling collected packages: humanfriendly, coloredlogs, onnxruntime\r\n",
      "Successfully installed coloredlogs-15.0.1 humanfriendly-10.0 onnxruntime-1.20.0\r\n"
     ]
    }
   ],
   "source": [
    "!pip install onnxruntime"
   ]
  },
  {
   "cell_type": "code",
   "execution_count": 2,
   "id": "efb456a8",
   "metadata": {
    "execution": {
     "iopub.execute_input": "2024-11-12T18:22:43.877890Z",
     "iopub.status.busy": "2024-11-12T18:22:43.877398Z",
     "iopub.status.idle": "2024-11-12T18:22:49.713214Z",
     "shell.execute_reply": "2024-11-12T18:22:49.712182Z"
    },
    "papermill": {
     "duration": 5.845254,
     "end_time": "2024-11-12T18:22:49.715579",
     "exception": false,
     "start_time": "2024-11-12T18:22:43.870325",
     "status": "completed"
    },
    "tags": []
   },
   "outputs": [
    {
     "data": {
      "text/html": [
       "<div>\n",
       "<style scoped>\n",
       "    .dataframe tbody tr th:only-of-type {\n",
       "        vertical-align: middle;\n",
       "    }\n",
       "\n",
       "    .dataframe tbody tr th {\n",
       "        vertical-align: top;\n",
       "    }\n",
       "\n",
       "    .dataframe thead th {\n",
       "        text-align: right;\n",
       "    }\n",
       "</style>\n",
       "<table border=\"1\" class=\"dataframe\">\n",
       "  <thead>\n",
       "    <tr style=\"text-align: right;\">\n",
       "      <th></th>\n",
       "      <th>Flutter Timecode</th>\n",
       "      <th>Device Timecode</th>\n",
       "      <th>ax</th>\n",
       "      <th>ay</th>\n",
       "      <th>az</th>\n",
       "      <th>gx</th>\n",
       "      <th>gy</th>\n",
       "      <th>gz</th>\n",
       "      <th>Orientation</th>\n",
       "      <th>Posture</th>\n",
       "      <th>Posture_Type</th>\n",
       "    </tr>\n",
       "  </thead>\n",
       "  <tbody>\n",
       "    <tr>\n",
       "      <th>0</th>\n",
       "      <td>1730965200588</td>\n",
       "      <td>282436</td>\n",
       "      <td>-0.04</td>\n",
       "      <td>0.82</td>\n",
       "      <td>0.63</td>\n",
       "      <td>22.12</td>\n",
       "      <td>0.21</td>\n",
       "      <td>-1.33</td>\n",
       "      <td>Seating</td>\n",
       "      <td>Tilted</td>\n",
       "      <td>Seating_tilted</td>\n",
       "    </tr>\n",
       "    <tr>\n",
       "      <th>1</th>\n",
       "      <td>1730965200588</td>\n",
       "      <td>282436</td>\n",
       "      <td>-0.04</td>\n",
       "      <td>0.82</td>\n",
       "      <td>0.63</td>\n",
       "      <td>22.12</td>\n",
       "      <td>0.21</td>\n",
       "      <td>-1.33</td>\n",
       "      <td>Seating</td>\n",
       "      <td>Tilted</td>\n",
       "      <td>Seating_tilted</td>\n",
       "    </tr>\n",
       "    <tr>\n",
       "      <th>2</th>\n",
       "      <td>1730965200588</td>\n",
       "      <td>282436</td>\n",
       "      <td>-0.04</td>\n",
       "      <td>0.82</td>\n",
       "      <td>0.63</td>\n",
       "      <td>22.12</td>\n",
       "      <td>0.21</td>\n",
       "      <td>-1.33</td>\n",
       "      <td>Seating</td>\n",
       "      <td>Tilted</td>\n",
       "      <td>Seating_tilted</td>\n",
       "    </tr>\n",
       "    <tr>\n",
       "      <th>3</th>\n",
       "      <td>1730965200588</td>\n",
       "      <td>282436</td>\n",
       "      <td>-0.04</td>\n",
       "      <td>0.82</td>\n",
       "      <td>0.63</td>\n",
       "      <td>22.12</td>\n",
       "      <td>0.21</td>\n",
       "      <td>-1.33</td>\n",
       "      <td>Seating</td>\n",
       "      <td>Tilted</td>\n",
       "      <td>Seating_tilted</td>\n",
       "    </tr>\n",
       "    <tr>\n",
       "      <th>4</th>\n",
       "      <td>1730965200784</td>\n",
       "      <td>282656</td>\n",
       "      <td>-0.09</td>\n",
       "      <td>0.92</td>\n",
       "      <td>0.53</td>\n",
       "      <td>27.16</td>\n",
       "      <td>7.35</td>\n",
       "      <td>-6.37</td>\n",
       "      <td>Seating</td>\n",
       "      <td>Tilted</td>\n",
       "      <td>Seating_tilted</td>\n",
       "    </tr>\n",
       "  </tbody>\n",
       "</table>\n",
       "</div>"
      ],
      "text/plain": [
       "   Flutter Timecode  Device Timecode    ax    ay    az     gx    gy    gz  \\\n",
       "0     1730965200588           282436 -0.04  0.82  0.63  22.12  0.21 -1.33   \n",
       "1     1730965200588           282436 -0.04  0.82  0.63  22.12  0.21 -1.33   \n",
       "2     1730965200588           282436 -0.04  0.82  0.63  22.12  0.21 -1.33   \n",
       "3     1730965200588           282436 -0.04  0.82  0.63  22.12  0.21 -1.33   \n",
       "4     1730965200784           282656 -0.09  0.92  0.53  27.16  7.35 -6.37   \n",
       "\n",
       "  Orientation Posture    Posture_Type  \n",
       "0     Seating  Tilted  Seating_tilted  \n",
       "1     Seating  Tilted  Seating_tilted  \n",
       "2     Seating  Tilted  Seating_tilted  \n",
       "3     Seating  Tilted  Seating_tilted  \n",
       "4     Seating  Tilted  Seating_tilted  "
      ]
     },
     "execution_count": 2,
     "metadata": {},
     "output_type": "execute_result"
    }
   ],
   "source": [
    "import pandas as pd\n",
    "import glob\n",
    "import pandas as pd\n",
    "import numpy as np\n",
    "import torch\n",
    "import torch.nn as nn\n",
    "import torch.optim as optim\n",
    "from sklearn.model_selection import train_test_split\n",
    "from sklearn.preprocessing import LabelEncoder, StandardScaler\n",
    "from torch.utils.data import DataLoader, TensorDataset\n",
    "import torch.onnx\n",
    "import onnx\n",
    "import onnxruntime as ort\n",
    "\n",
    "file_paths = {\n",
    "    \"../input/dataset007/Seating_tilted.csv\": \"Seating_tilted\",\n",
    "    \"../input/dataset007/Walking_tilted.csv\": \"Walking_tilted\",\n",
    "    \"../input/dataset007/Seating_hunched.csv\": \"Seating_hunched\",\n",
    "    \"../input/dataset007/Standing_hunched.csv\": \"Standing_hunched\",\n",
    "    \"../input/dataset007/Walking_straight.csv\": \"Walking_straight\",\n",
    "    \"../input/dataset007/Standing_tilted.csv\": \"Standing_tilted\",\n",
    "    \"../input/dataset007/Walking_hunched.csv\": \"Walking_hunched\",\n",
    "    \"../input/dataset007/Seating_straight.csv\": \"Seating_straight\",\n",
    "    \"../input/dataset007/Standing_straight.csv\": \"Standing_straight\"\n",
    "}\n",
    "\n",
    "dataframes = []\n",
    "for file_path, label in file_paths.items():\n",
    "    df = pd.read_csv(file_path)\n",
    "    df['Posture_Type'] = label\n",
    "    dataframes.append(df)\n",
    "\n",
    "combined_df = pd.concat(dataframes, ignore_index=True)\n",
    "\n",
    "combined_df.head()\n"
   ]
  },
  {
   "cell_type": "code",
   "execution_count": 3,
   "id": "e34865d4",
   "metadata": {
    "execution": {
     "iopub.execute_input": "2024-11-12T18:22:49.730128Z",
     "iopub.status.busy": "2024-11-12T18:22:49.729338Z",
     "iopub.status.idle": "2024-11-12T18:22:49.736056Z",
     "shell.execute_reply": "2024-11-12T18:22:49.734983Z"
    },
    "papermill": {
     "duration": 0.016554,
     "end_time": "2024-11-12T18:22:49.738451",
     "exception": false,
     "start_time": "2024-11-12T18:22:49.721897",
     "status": "completed"
    },
    "tags": []
   },
   "outputs": [
    {
     "data": {
      "text/plain": [
       "370962"
      ]
     },
     "execution_count": 3,
     "metadata": {},
     "output_type": "execute_result"
    }
   ],
   "source": [
    "len(combined_df)"
   ]
  },
  {
   "cell_type": "code",
   "execution_count": 4,
   "id": "e0a66ce1",
   "metadata": {
    "execution": {
     "iopub.execute_input": "2024-11-12T18:22:49.754384Z",
     "iopub.status.busy": "2024-11-12T18:22:49.753493Z",
     "iopub.status.idle": "2024-11-12T18:22:49.850324Z",
     "shell.execute_reply": "2024-11-12T18:22:49.849245Z"
    },
    "papermill": {
     "duration": 0.107516,
     "end_time": "2024-11-12T18:22:49.852559",
     "exception": false,
     "start_time": "2024-11-12T18:22:49.745043",
     "status": "completed"
    },
    "tags": []
   },
   "outputs": [
    {
     "name": "stdout",
     "output_type": "stream",
     "text": [
      "['Tilted' 'Hunched' 'Straight']\n",
      "['Seating' 'Walking' 'Standing']\n",
      "['Seating_tilted' 'Walking_tilted' 'Seating_hunched' 'Standing_hunched'\n",
      " 'Walking_straight' 'Standing_tilted' 'Walking_hunched' 'Seating_straight'\n",
      " 'Standing_straight']\n"
     ]
    }
   ],
   "source": [
    "print(combined_df['Posture'].unique())\n",
    "print(combined_df['Orientation'].unique())\n",
    "print(combined_df['Posture_Type'].unique())"
   ]
  },
  {
   "cell_type": "code",
   "execution_count": 5,
   "id": "9805c31d",
   "metadata": {
    "execution": {
     "iopub.execute_input": "2024-11-12T18:22:49.866472Z",
     "iopub.status.busy": "2024-11-12T18:22:49.865877Z",
     "iopub.status.idle": "2024-11-12T18:22:49.954285Z",
     "shell.execute_reply": "2024-11-12T18:22:49.953244Z"
    },
    "papermill": {
     "duration": 0.097741,
     "end_time": "2024-11-12T18:22:49.956563",
     "exception": false,
     "start_time": "2024-11-12T18:22:49.858822",
     "status": "completed"
    },
    "tags": []
   },
   "outputs": [
    {
     "name": "stdout",
     "output_type": "stream",
     "text": [
      "Using device: cuda\n"
     ]
    }
   ],
   "source": [
    "\n",
    "seed = 42\n",
    "np.random.seed(seed)\n",
    "torch.manual_seed(seed)\n",
    "if torch.cuda.is_available():\n",
    "    torch.cuda.manual_seed_all(seed)\n",
    "\n",
    "device = torch.device(\"cuda\" if torch.cuda.is_available() else \"cpu\")\n",
    "print(f\"Using device: {device}\")"
   ]
  },
  {
   "cell_type": "code",
   "execution_count": 6,
   "id": "eae9e3fb",
   "metadata": {
    "execution": {
     "iopub.execute_input": "2024-11-12T18:22:49.970163Z",
     "iopub.status.busy": "2024-11-12T18:22:49.969559Z",
     "iopub.status.idle": "2024-11-12T18:22:50.574999Z",
     "shell.execute_reply": "2024-11-12T18:22:50.573950Z"
    },
    "papermill": {
     "duration": 0.615282,
     "end_time": "2024-11-12T18:22:50.577766",
     "exception": false,
     "start_time": "2024-11-12T18:22:49.962484",
     "status": "completed"
    },
    "tags": []
   },
   "outputs": [],
   "source": [
    "\n",
    "label_encoder_orientation = LabelEncoder()\n",
    "label_encoder_posture = LabelEncoder()\n",
    "label_encoder_posture_type = LabelEncoder()\n",
    "\n",
    "combined_df['Orientation'] = label_encoder_orientation.fit_transform(combined_df['Orientation'])\n",
    "combined_df['Posture'] = label_encoder_posture.fit_transform(combined_df['Posture'])\n",
    "combined_df['Posture_Type'] = label_encoder_posture_type.fit_transform(combined_df['Posture_Type'])\n",
    "\n",
    "X = combined_df[['ax', 'ay', 'az', 'gx', 'gy', 'gz', 'Orientation', 'Posture']]\n",
    "y = combined_df['Posture_Type']\n",
    "\n",
    "scaler = StandardScaler()\n",
    "X = scaler.fit_transform(X)\n",
    "\n",
    "X_train, X_temp, y_train, y_temp = train_test_split(X, y, test_size=0.3, random_state=seed, shuffle=True)\n",
    "X_val, X_test, y_val, y_test = train_test_split(X_temp, y_temp, test_size=0.5, random_state=seed, shuffle=True)\n",
    "\n",
    "X_train = torch.tensor(X_train, dtype=torch.float32).to(device)\n",
    "y_train = torch.tensor(y_train.values, dtype=torch.long).to(device)\n",
    "X_val = torch.tensor(X_val, dtype=torch.float32).to(device)\n",
    "y_val = torch.tensor(y_val.values, dtype=torch.long).to(device)\n",
    "X_test = torch.tensor(X_test, dtype=torch.float32).to(device)\n",
    "y_test = torch.tensor(y_test.values, dtype=torch.long).to(device)\n",
    "\n",
    "train_dataset = TensorDataset(X_train, y_train)\n",
    "val_dataset = TensorDataset(X_val, y_val)\n",
    "test_dataset = TensorDataset(X_test, y_test)\n",
    "\n",
    "train_loader = DataLoader(train_dataset, batch_size=64, shuffle=True)\n",
    "val_loader = DataLoader(val_dataset, batch_size=64, shuffle=False)\n",
    "test_loader = DataLoader(test_dataset, batch_size=64, shuffle=False)\n",
    "\n"
   ]
  },
  {
   "cell_type": "code",
   "execution_count": 7,
   "id": "f0c5c7e2",
   "metadata": {
    "execution": {
     "iopub.execute_input": "2024-11-12T18:22:50.594592Z",
     "iopub.status.busy": "2024-11-12T18:22:50.593794Z",
     "iopub.status.idle": "2024-11-12T18:22:51.623742Z",
     "shell.execute_reply": "2024-11-12T18:22:51.622719Z"
    },
    "papermill": {
     "duration": 1.041041,
     "end_time": "2024-11-12T18:22:51.626188",
     "exception": false,
     "start_time": "2024-11-12T18:22:50.585147",
     "status": "completed"
    },
    "tags": []
   },
   "outputs": [],
   "source": [
    "\n",
    "class MLP(nn.Module):\n",
    "    def __init__(self, input_size, hidden_size, output_size):\n",
    "        super(MLP, self).__init__()\n",
    "        self.fc1 = nn.Linear(input_size, hidden_size)\n",
    "        self.fc2 = nn.Linear(hidden_size, hidden_size)\n",
    "        self.fc3 = nn.Linear(hidden_size, output_size)\n",
    "        self.relu = nn.ReLU()\n",
    "        self.dropout = nn.Dropout(0.5)\n",
    "\n",
    "    def forward(self, x):\n",
    "        x = self.dropout(self.relu(self.fc1(x)))\n",
    "        x = self.dropout(self.relu(self.fc2(x)))\n",
    "        x = self.fc3(x)\n",
    "        return x\n",
    "\n",
    "input_size = X_train.shape[1]\n",
    "hidden_size = 64\n",
    "output_size = len(label_encoder_posture_type.classes_)\n",
    "model = MLP(input_size, hidden_size, output_size).to(device)\n",
    "\n",
    "criterion = nn.CrossEntropyLoss()\n",
    "optimizer = optim.Adam(model.parameters(), lr=0.001)\n",
    "\n",
    "num_epochs = 20\n"
   ]
  },
  {
   "cell_type": "code",
   "execution_count": 8,
   "id": "c80e14fb",
   "metadata": {
    "execution": {
     "iopub.execute_input": "2024-11-12T18:22:51.640564Z",
     "iopub.status.busy": "2024-11-12T18:22:51.639451Z",
     "iopub.status.idle": "2024-11-12T18:26:15.589597Z",
     "shell.execute_reply": "2024-11-12T18:26:15.588574Z"
    },
    "papermill": {
     "duration": 203.959482,
     "end_time": "2024-11-12T18:26:15.591662",
     "exception": false,
     "start_time": "2024-11-12T18:22:51.632180",
     "status": "completed"
    },
    "tags": []
   },
   "outputs": [
    {
     "name": "stdout",
     "output_type": "stream",
     "text": [
      "Epoch [1/20], Train Loss: 0.1298, Val Loss: 0.0000\n",
      "Epoch [2/20], Train Loss: 0.0105, Val Loss: 0.0000\n",
      "Epoch [3/20], Train Loss: 0.0068, Val Loss: 0.0000\n",
      "Epoch [4/20], Train Loss: 0.0050, Val Loss: 0.0000\n",
      "Epoch [5/20], Train Loss: 0.0043, Val Loss: 0.0000\n",
      "Epoch [6/20], Train Loss: 0.0046, Val Loss: 0.0000\n",
      "Epoch [7/20], Train Loss: 0.0037, Val Loss: 0.0000\n",
      "Epoch [8/20], Train Loss: 0.0035, Val Loss: 0.0000\n",
      "Epoch [9/20], Train Loss: 0.0034, Val Loss: 0.0000\n",
      "Epoch [10/20], Train Loss: 0.0032, Val Loss: 0.0000\n",
      "Epoch [11/20], Train Loss: 0.0029, Val Loss: 0.0000\n",
      "Epoch [12/20], Train Loss: 0.0029, Val Loss: 0.0000\n",
      "Epoch [13/20], Train Loss: 0.0028, Val Loss: 0.0000\n",
      "Epoch [14/20], Train Loss: 0.0023, Val Loss: 0.0000\n",
      "Epoch [15/20], Train Loss: 0.0026, Val Loss: 0.0000\n",
      "Epoch [16/20], Train Loss: 0.0031, Val Loss: 0.0000\n",
      "Epoch [17/20], Train Loss: 0.0024, Val Loss: 0.0000\n",
      "Epoch [18/20], Train Loss: 0.0027, Val Loss: 0.0000\n",
      "Epoch [19/20], Train Loss: 0.0020, Val Loss: 0.0000\n",
      "Epoch [20/20], Train Loss: 0.0020, Val Loss: 0.0000\n"
     ]
    }
   ],
   "source": [
    "for epoch in range(num_epochs):\n",
    "    model.train()\n",
    "    total_loss = 0\n",
    "    for X_batch, y_batch in train_loader:\n",
    "        optimizer.zero_grad()\n",
    "        outputs = model(X_batch)\n",
    "        loss = criterion(outputs, y_batch)\n",
    "        loss.backward()\n",
    "        optimizer.step()\n",
    "        total_loss += loss.item()\n",
    "\n",
    "    val_loss = 0\n",
    "    model.eval()\n",
    "    with torch.no_grad():\n",
    "        for X_val_batch, y_val_batch in val_loader:\n",
    "            val_outputs = model(X_val_batch)\n",
    "            val_loss += criterion(val_outputs, y_val_batch).item()\n",
    "    \n",
    "    print(f\"Epoch [{epoch+1}/{num_epochs}], Train Loss: {total_loss/len(train_loader):.4f}, Val Loss: {val_loss/len(val_loader):.4f}\")\n",
    "\n",
    "\n"
   ]
  },
  {
   "cell_type": "code",
   "execution_count": 9,
   "id": "fe7da258",
   "metadata": {
    "execution": {
     "iopub.execute_input": "2024-11-12T18:26:15.608026Z",
     "iopub.status.busy": "2024-11-12T18:26:15.607702Z",
     "iopub.status.idle": "2024-11-12T18:26:15.743140Z",
     "shell.execute_reply": "2024-11-12T18:26:15.741904Z"
    },
    "papermill": {
     "duration": 0.14602,
     "end_time": "2024-11-12T18:26:15.745409",
     "exception": false,
     "start_time": "2024-11-12T18:26:15.599389",
     "status": "completed"
    },
    "tags": []
   },
   "outputs": [
    {
     "name": "stdout",
     "output_type": "stream",
     "text": [
      "Model saved in PyTorch format at mlp_model.pth\n",
      "Model saved in ONNX format at mlp_model.onnx\n"
     ]
    }
   ],
   "source": [
    "\n",
    "torch_model_path = \"mlp_model.pth\"\n",
    "onnx_model_path = \"mlp_model.onnx\"\n",
    "\n",
    "torch.save(model.state_dict(), torch_model_path)\n",
    "print(f\"Model saved in PyTorch format at {torch_model_path}\")\n",
    "\n",
    "#  ONNX format\n",
    "dummy_input = torch.randn(1, X_train.shape[1]).to(device)  #  dummy input with the same shape as a batch\n",
    "torch.onnx.export(\n",
    "    model, \n",
    "    dummy_input, \n",
    "    onnx_model_path, \n",
    "    input_names=[\"input\"], \n",
    "    output_names=[\"output\"],\n",
    "    dynamic_axes={\"input\": {0: \"batch_size\"}, \"output\": {0: \"batch_size\"}},\n",
    "    opset_version=11\n",
    ")\n",
    "print(f\"Model saved in ONNX format at {onnx_model_path}\")\n"
   ]
  },
  {
   "cell_type": "code",
   "execution_count": 10,
   "id": "a8743df6",
   "metadata": {
    "execution": {
     "iopub.execute_input": "2024-11-12T18:26:15.761745Z",
     "iopub.status.busy": "2024-11-12T18:26:15.761382Z",
     "iopub.status.idle": "2024-11-12T18:26:16.709767Z",
     "shell.execute_reply": "2024-11-12T18:26:16.708642Z"
    },
    "papermill": {
     "duration": 0.959047,
     "end_time": "2024-11-12T18:26:16.711948",
     "exception": false,
     "start_time": "2024-11-12T18:26:15.752901",
     "status": "completed"
    },
    "tags": []
   },
   "outputs": [
    {
     "name": "stderr",
     "output_type": "stream",
     "text": [
      "/tmp/ipykernel_24/3087680798.py:17: FutureWarning: You are using `torch.load` with `weights_only=False` (the current default value), which uses the default pickle module implicitly. It is possible to construct malicious pickle data which will execute arbitrary code during unpickling (See https://github.com/pytorch/pytorch/blob/main/SECURITY.md#untrusted-models for more details). In a future release, the default value for `weights_only` will be flipped to `True`. This limits the functions that could be executed during unpickling. Arbitrary objects will no longer be allowed to be loaded via this mode unless they are explicitly allowlisted by the user via `torch.serialization.add_safe_globals`. We recommend you start setting `weights_only=True` for any use case where you don't have full control of the loaded file. Please open an issue on GitHub for any issues related to this experimental feature.\n",
      "  model.load_state_dict(torch.load(torch_model_path))\n"
     ]
    },
    {
     "name": "stdout",
     "output_type": "stream",
     "text": [
      "Test Accuracy (PyTorch): 100.00%\n"
     ]
    }
   ],
   "source": [
    "\n",
    "torch_model_path = \"/kaggle/working/mlp_model.pth\"\n",
    "onnx_model_path = \"/kaggle/working/mlp_model.onnx\"\n",
    "\n",
    "def evaluate_pytorch_model(model, test_loader):\n",
    "    model.eval()\n",
    "    correct = 0\n",
    "    total = 0\n",
    "    with torch.no_grad():\n",
    "        for X_test_batch, y_test_batch in test_loader:\n",
    "            X_test_batch, y_test_batch = X_test_batch.to(device), y_test_batch.to(device)\n",
    "            outputs = model(X_test_batch)\n",
    "            _, predicted = torch.max(outputs, 1)\n",
    "            total += y_test_batch.size(0)\n",
    "            correct += (predicted == y_test_batch).sum().item()\n",
    "    print(f\"Test Accuracy (PyTorch): {100 * correct / total:.2f}%\")\n",
    "\n",
    "model.load_state_dict(torch.load(torch_model_path))\n",
    "model.to(device)\n",
    "evaluate_pytorch_model(model, test_loader)\n"
   ]
  },
  {
   "cell_type": "code",
   "execution_count": 11,
   "id": "6cbc71cd",
   "metadata": {
    "execution": {
     "iopub.execute_input": "2024-11-12T18:26:16.729186Z",
     "iopub.status.busy": "2024-11-12T18:26:16.728853Z",
     "iopub.status.idle": "2024-11-12T18:26:17.838385Z",
     "shell.execute_reply": "2024-11-12T18:26:17.837151Z"
    },
    "papermill": {
     "duration": 1.12088,
     "end_time": "2024-11-12T18:26:17.840741",
     "exception": false,
     "start_time": "2024-11-12T18:26:16.719861",
     "status": "completed"
    },
    "tags": []
   },
   "outputs": [
    {
     "name": "stdout",
     "output_type": "stream",
     "text": [
      "Test Accuracy (ONNX): 100.00%\n"
     ]
    }
   ],
   "source": [
    "\n",
    "def evaluate_onnx_model(onnx_model_path, test_loader):\n",
    "    ort_session = ort.InferenceSession(onnx_model_path)\n",
    "    correct = 0\n",
    "    total = 0\n",
    "    for X_test_batch, y_test_batch in test_loader:\n",
    "\n",
    "        X_test_batch = X_test_batch.cpu().numpy()\n",
    "        y_test_batch = y_test_batch.cpu().numpy()\n",
    "\n",
    "        ort_inputs = {\"input\": X_test_batch}\n",
    "        ort_outs = ort_session.run(None, ort_inputs)\n",
    "        predicted = torch.tensor(ort_outs[0]).argmax(dim=1)\n",
    "        \n",
    "        total += y_test_batch.shape[0]\n",
    "        correct += (predicted.numpy() == y_test_batch).sum()\n",
    "    \n",
    "    print(f\"Test Accuracy (ONNX): {100 * correct / total:.2f}%\")\n",
    "\n",
    "evaluate_onnx_model(onnx_model_path, test_loader)\n"
   ]
  },
  {
   "cell_type": "code",
   "execution_count": null,
   "id": "21a4dde4",
   "metadata": {
    "papermill": {
     "duration": 0.007568,
     "end_time": "2024-11-12T18:26:17.856147",
     "exception": false,
     "start_time": "2024-11-12T18:26:17.848579",
     "status": "completed"
    },
    "tags": []
   },
   "outputs": [],
   "source": []
  }
 ],
 "metadata": {
  "kaggle": {
   "accelerator": "nvidiaTeslaT4",
   "dataSources": [
    {
     "datasetId": 6062220,
     "sourceId": 9874608,
     "sourceType": "datasetVersion"
    }
   ],
   "dockerImageVersionId": 30786,
   "isGpuEnabled": true,
   "isInternetEnabled": true,
   "language": "python",
   "sourceType": "notebook"
  },
  "kernelspec": {
   "display_name": "Python 3",
   "language": "python",
   "name": "python3"
  },
  "language_info": {
   "codemirror_mode": {
    "name": "ipython",
    "version": 3
   },
   "file_extension": ".py",
   "mimetype": "text/x-python",
   "name": "python",
   "nbconvert_exporter": "python",
   "pygments_lexer": "ipython3",
   "version": "3.10.14"
  },
  "papermill": {
   "default_parameters": {},
   "duration": 233.741173,
   "end_time": "2024-11-12T18:26:20.197200",
   "environment_variables": {},
   "exception": null,
   "input_path": "__notebook__.ipynb",
   "output_path": "__notebook__.ipynb",
   "parameters": {},
   "start_time": "2024-11-12T18:22:26.456027",
   "version": "2.6.0"
  }
 },
 "nbformat": 4,
 "nbformat_minor": 5
}
